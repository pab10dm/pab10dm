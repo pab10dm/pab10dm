{
  "nbformat": 4,
  "nbformat_minor": 0,
  "metadata": {
    "colab": {
      "provenance": [],
      "authorship_tag": "ABX9TyPJi+q2STBIBHKgDm1dH2Ur",
      "include_colab_link": true
    },
    "kernelspec": {
      "name": "python3",
      "display_name": "Python 3"
    },
    "language_info": {
      "name": "python"
    }
  },
  "cells": [
    {
      "cell_type": "markdown",
      "metadata": {
        "id": "view-in-github",
        "colab_type": "text"
      },
      "source": [
        "<a href=\"https://colab.research.google.com/github/pab10dm/pab10dm/blob/main/modulo2.ipynb\" target=\"_parent\"><img src=\"https://colab.research.google.com/assets/colab-badge.svg\" alt=\"Open In Colab\"/></a>"
      ]
    },
    {
      "cell_type": "markdown",
      "source": [
        "Ejercicios del Módulo 2"
      ],
      "metadata": {
        "id": "w7Y9A9WhxLI0"
      }
    },
    {
      "cell_type": "code",
      "source": [
        "!apt install octave"
      ],
      "metadata": {
        "id": "0DQUnIrM21B4"
      },
      "execution_count": null,
      "outputs": []
    },
    {
      "cell_type": "code",
      "source": [
        "!apt install octave-symbolic"
      ],
      "metadata": {
        "id": "VtrUxCCE25hD"
      },
      "execution_count": null,
      "outputs": []
    },
    {
      "cell_type": "code",
      "source": [
        "!octave -W Controlador.m"
      ],
      "metadata": {
        "colab": {
          "base_uri": "https://localhost:8080/"
        },
        "id": "ocj0Bm1e_nl-",
        "outputId": "db2cb69e-a326-4d5e-ba49-0092423947b6"
      },
      "execution_count": 11,
      "outputs": [
        {
          "output_type": "stream",
          "name": "stdout",
          "text": [
            "error: no such file, '/content/Controlador.m'\n",
            "error: source: error sourcing file '/content/Controlador.m'\n"
          ]
        }
      ]
    },
    {
      "cell_type": "markdown",
      "source": [
        "Se debe agregar en el .m el path donde está el Python, mediante una línea como ésta:\n",
        "\n",
        "setenv PYTHON /usr/bin/python\n",
        "\n",
        "para acceder al sympy desde symbolic. No obtante, puede ser diferente el path y debe verificarse en caso de que no funcione."
      ],
      "metadata": {
        "id": "iGwqSIj3-bn-"
      }
    },
    {
      "cell_type": "code",
      "execution_count": 14,
      "metadata": {
        "colab": {
          "base_uri": "https://localhost:8080/",
          "height": 135
        },
        "id": "A3aL_2Fcwrns",
        "outputId": "4b86fcf4-686f-434b-8f8a-101b126554d9"
      },
      "outputs": [
        {
          "output_type": "error",
          "ename": "SyntaxError",
          "evalue": "ignored",
          "traceback": [
            "\u001b[0;36m  File \u001b[0;32m\"<ipython-input-14-9430e6d055f5>\"\u001b[0;36m, line \u001b[0;32m6\u001b[0m\n\u001b[0;31m    X=-[0; 0; 0];ii=0;t_etapa=1e-6;wRef=-1;tF=1;\u001b[0m\n\u001b[0m         ^\u001b[0m\n\u001b[0;31mSyntaxError\u001b[0m\u001b[0;31m:\u001b[0m invalid syntax\n"
          ]
        }
      ],
      "source": [
        "%Controlar al motor CC Módulo 2, \n",
        "%con el objetivo de control que mantenga una velocidad constante de valor \n",
        "%unitario positivo y negativo. \n",
        "%setenv PYTHON /usr/bin/python\n",
        "%clear all;clc;\n",
        "X=-[0; 0; 0];ii=0;t_etapa=1e-6;wRef=-1;tF=1;\n",
        "torque=1.15e-12;\n",
        "%Constantes del PID\n",
        "Kp=50;Ki=10000;Kd=0;color_='r';\n",
        "Ts=t_etapa;\n",
        "A1=((2*Kp*Ts)+(Ki*(Ts^2))+(2*Kd))/(2*Ts);\n",
        "B1=(-2*Kp*Ts+Ki*(Ts^2)-4*Kd)/(2*Ts);\n",
        "C1=Kd/Ts;\n",
        "u=12;\n",
        "  for t=0:t_etapa:tF\n",
        "    ii=ii+1;k=ii+2;\n",
        "    X=modmotor3(t_etapa, X, u, torque);\n",
        "    % e(k)=TitaRef-X(3); %ERROR\n",
        "    e(k)=wRef-X(1); %ERROR\n",
        "    u=u+A1*e(k)+B1*e(k-1)+C1*e(k-2); %PID\n",
        "    x1(ii)=X(1); %Omega\n",
        "    x2(ii)=X(2); %Ia\n",
        "    x3(ii)=X(3); %Tita\n",
        "\n",
        "      if t>0.5\n",
        "       wRef=1;\n",
        "      end\n",
        "\n",
        "      if u>12\n",
        "         u=12;\n",
        "      end\n",
        "      if u<-12\n",
        "        u=-12;\n",
        "      end\n",
        "  acc(ii)=u;\n",
        "end\n",
        "t=0:t_etapa:tF;\n",
        "subplot(3,1,1);hold on;\n",
        "plot(t,x1,color_);title('Salida y, \\omega_t');\n",
        "subplot(3,1,2);hold on;\n",
        "plot(t,x2,color_);title('Salida y, Corriente I_a');\n",
        "xlabel('Tiempo [Seg.]');\n",
        "subplot(3,1,3);hold on;\n",
        "plot(t,acc,color_);title('Entrada u_t, v_a');"
      ]
    },
    {
      "cell_type": "markdown",
      "source": [
        "Controlar al motor CC visto en el punto e del Instructivo del Módulo 2, con el objetivo de control que mantenga una velocidad constante de valor unitario positivo y negativo.\n",
        "• Implementar"
      ],
      "metadata": {
        "id": "VGYon8OzwudW"
      }
    },
    {
      "cell_type": "code",
      "source": [
        "%SUB RUTINA MODELO DEL MOTOR\n",
        "%\n",
        "\n",
        "function [X]=modmotor3(t_etapa, xant, accion, T)\n",
        "\n",
        "Laa=366e-6; J=5e-9;Ra=55.6;B=0;Ki=6.49e-3;Km=6.53e-3;\n",
        "Va=accion;\n",
        "h=1e-7;\n",
        "omega= xant(1);\n",
        "ia= xant(2);\n",
        "tita= xant(3);\n",
        "for ii=1:t_etapa/h\n",
        "   wp = ia*(Ki/J) - omega*(B/J) - T/J;\n",
        "   iap = -ia*(Ra/Laa) - omega*(Km/Laa) + Va/Laa;\n",
        "   omega = omega + h*wp;\n",
        "   ia = ia +h*iap;\n",
        "   tita = tita + h*omega;\n",
        "end\n",
        "X=[omega,ia,tita];"
      ],
      "metadata": {
        "colab": {
          "base_uri": "https://localhost:8080/",
          "height": 135
        },
        "id": "qg6BK9wsxPVg",
        "outputId": "35eeae13-e7b5-45a3-fce7-f40516c30537"
      },
      "execution_count": 13,
      "outputs": [
        {
          "output_type": "error",
          "ename": "SyntaxError",
          "evalue": "ignored",
          "traceback": [
            "\u001b[0;36m  File \u001b[0;32m\"<ipython-input-13-b921e4f5b2d6>\"\u001b[0;36m, line \u001b[0;32m12\u001b[0m\n\u001b[0;31m    for ii=1:t_etapa/h\u001b[0m\n\u001b[0m          ^\u001b[0m\n\u001b[0;31mSyntaxError\u001b[0m\u001b[0;31m:\u001b[0m invalid syntax\n"
          ]
        }
      ]
    },
    {
      "cell_type": "markdown",
      "source": [
        "Evolución de la velocidad de un motor CC cuando se emplea un controlador PID digital, con ternas de parámetros diferentes"
      ],
      "metadata": {
        "id": "EZ3-draJxJZg"
      }
    }
  ]
}