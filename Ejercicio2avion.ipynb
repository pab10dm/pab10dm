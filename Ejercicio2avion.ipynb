{
  "nbformat": 4,
  "nbformat_minor": 0,
  "metadata": {
    "colab": {
      "provenance": [],
      "authorship_tag": "ABX9TyOABILKrctIAHHxkK0QBpjt",
      "include_colab_link": true
    },
    "kernelspec": {
      "name": "python3",
      "display_name": "Python 3"
    },
    "language_info": {
      "name": "python"
    }
  },
  "cells": [
    {
      "cell_type": "markdown",
      "metadata": {
        "id": "view-in-github",
        "colab_type": "text"
      },
      "source": [
        "<a href=\"https://colab.research.google.com/github/pab10dm/pab10dm/blob/main/Ejercicio2avion.ipynb\" target=\"_parent\"><img src=\"https://colab.research.google.com/assets/colab-badge.svg\" alt=\"Open In Colab\"/></a>"
      ]
    },
    {
      "cell_type": "code",
      "execution_count": null,
      "metadata": {
        "id": "LGsFf26quipq"
      },
      "outputs": [],
      "source": []
    },
    {
      "cell_type": "markdown",
      "source": [],
      "metadata": {
        "id": "Q7bWjujNw8Jh"
      }
    },
    {
      "cell_type": "code",
      "source": [
        "from sympy import *\n",
        "import numpy as np\n",
        "init_printing(use_unicode=True)\n",
        "#syms alfa alfa_p fi fi_p fi_pp h h_p a b c u omega;  \n",
        "alfa, alfa_p, fi, fi_p, fi_pp, h, h_p, a, b, c, u, omega=symbols('alfa alfa_p fi fi_p fi_pp h h_p a b c u omega')\n",
        "# alfa_p=a*(fi-alfa);  \n",
        "Eq1=Eq(alfa_p-a*(fi-alfa),0)\n",
        "#%fi_pp=-(omega**2)(fi-alfa-b*u); \n",
        "Eq2=Eq(fi_pp+(omega**2)*(fi-alfa-b*u),0)\n",
        "#%h_p=c*alfa;\n",
        "Eq3=Eq(h_p-c*alfa,0)\n",
        "sol = solve((Eq1, Eq2, Eq3),(alfa_p, fi_pp, h_p))\n",
        "# print(sol)\n",
        "alfa_p=sol[alfa_p]\n",
        "fi_pp=sol[fi_pp]\n",
        "h_p=sol[h_p]\n",
        "print('alfa_p final es')\n",
        "print(alfa_p)\n",
        "print('fi_pp final es')\n",
        "print(fi_pp)\n",
        "print('h_p final es')\n",
        "print(h_p)"
      ],
      "metadata": {
        "colab": {
          "base_uri": "https://localhost:8080/"
        },
        "id": "scl-1d42w-TJ",
        "outputId": "50de5e11-2c04-4510-8e28-c055e730bb49"
      },
      "execution_count": 1,
      "outputs": [
        {
          "output_type": "stream",
          "name": "stdout",
          "text": [
            "alfa_p final es\n",
            "-a*alfa + a*fi\n",
            "fi_pp final es\n",
            "alfa*omega**2 + b*omega**2*u - fi*omega**2\n",
            "h_p final es\n",
            "alfa*c\n"
          ]
        }
      ]
    },
    {
      "cell_type": "markdown",
      "source": [],
      "metadata": {
        "id": "VNhBAWVXzCEk"
      }
    },
    {
      "cell_type": "markdown",
      "source": [
        "$\\begin{equation*}\n",
        "\\begin{cases}\n",
        "\\dot{\\alpha} = {-a \\cdot {\\alpha}+a \\cdot {\\phi}} \\\\\n",
        "\\ddot{\\phi} = {{\\alpha} \\cdot {\\omega}^2 + b \\cdot {\\omega}^2 \\cdot u- \\phi \\cdot {\\omega}^2 } \\\\\n",
        "\\dot{h} = c \\cdot {\\alpha}\n",
        "\\end{cases}\n",
        "\\end{equation*}$\n",
        "\n"
      ],
      "metadata": {
        "id": "zcai7w-PQeB8"
      }
    },
    {
      "cell_type": "markdown",
      "source": [
        "**De esta manera tenemos las matrices**\n",
        "\n",
        "A=$[-a,a,0,0\\\\\n",
        "0,0,1,0\\\\\n",
        "\\omega^2,-\\omega^2,0,0\\\\\n",
        "c,0,0,0\n",
        "]$\n",
        "\n",
        "B=$[0 \\\\\n",
        "    0 \\\\\n",
        "    b \\cdot \\omega^2 \\\\\n",
        "    0\n",
        "]$ \n",
        "\n"
      ],
      "metadata": {
        "id": "77Dy0dN1k556"
      }
    },
    {
      "cell_type": "code",
      "source": [
        "Mat_A=[[diff(alfa_p, alfa).subs(alfa,0).subs(fi,0).subs(fi_p,0).subs(h,0),\n",
        "  diff(alfa_p, fi).subs(alfa,0).subs(fi,0).subs(fi_p,0).subs(h,0),\n",
        "  diff(alfa_p, fi_p).subs(alfa,0).subs(fi,0).subs(fi_p,0).subs(h,0),\n",
        "  diff(alfa_p, h).subs(alfa,0).subs(fi,0).subs(fi_p,0).subs(h,0)],\n",
        "  [0,0,1,0],\n",
        "  [diff(fi_pp, alfa).subs(alfa,0).subs(fi,0).subs(fi_p,0).subs(h,0),\n",
        "  diff(fi_pp, fi).subs(alfa,0).subs(fi,0).subs(fi_p,0).subs(h,0),\n",
        "  diff(fi_pp, fi_p).subs(alfa,0).subs(fi,0).subs(fi_p,0).subs(h,0),\n",
        "  diff(fi_pp, h).subs(alfa,0).subs(fi,0).subs(fi_p,0).subs(h,0)],\n",
        "  [c,0,0,0]]\n",
        "Mat_B=[[0],[0],\n",
        " [diff(fi_pp, u).subs(alfa,0).subs(fi,0).subs(fi_p,0).subs(h,0)],\n",
        " [0]]\n",
        "print(Mat_A)\n",
        "print(Mat_B)\n",
        "pretty_print(Mat_A)\n",
        "pretty_print(Mat_B)"
      ],
      "metadata": {
        "colab": {
          "base_uri": "https://localhost:8080/"
        },
        "id": "H3TJSFPhze7B",
        "outputId": "cb798cf3-6c8c-4c12-f815-f7893a40d7a7"
      },
      "execution_count": 2,
      "outputs": [
        {
          "output_type": "stream",
          "name": "stdout",
          "text": [
            "[[-a, a, 0, 0], [0, 0, 1, 0], [omega**2, -omega**2, 0, 0], [c, 0, 0, 0]]\n",
            "[[0], [0], [b*omega**2], [0]]\n",
            "⎡                             ⎡ 2    2      ⎤              ⎤\n",
            "⎣[-a, a, 0, 0], [0, 0, 1, 0], ⎣ω , -ω , 0, 0⎦, [c, 0, 0, 0]⎦\n",
            "⎡          ⎡   2⎤     ⎤\n",
            "⎣[0], [0], ⎣b⋅ω ⎦, [0]⎦\n"
          ]
        }
      ]
    },
    {
      "cell_type": "markdown",
      "source": [
        "Simulación del sistema lineal con los siguientes parámetros,  ω =0,2; a=0,01; b=0,2; c=100m/s (360Km/h);  Δ t= 1e−3 ; y el tiempo de simulación de 5 segundos."
      ],
      "metadata": {
        "id": "MsBh3LVl1a9L"
      }
    },
    {
      "cell_type": "code",
      "source": [
        "import numpy as np\n",
        "import scipy as sp\n",
        "import scipy.signal\n",
        "from matplotlib import pyplot as plt\n",
        "from pylab import *\n",
        "from numpy.linalg import eig\n",
        "omega=0.2;a=0.01;b=2;c=100;\n",
        "##%            estado=[alfa(i); fi(i); fi_p(i); h(i)]\n",
        "##Mat_A=[-a a 0 0; 0 0 1 0; omega^2 -omega^2 0 0; c 0 0 0];\n",
        "##Mat_B=[0; 0; (omega^2)*b; 0]\n",
        "Dt=1e-3;t_simul=5; #Tiene que ser muy pequeño para que se vea que coinciden\n",
        "Mat_A=np.array([[ -a, a, 0. ,0.],[0., 0., 1., 0.],[omega**2, -omega**2 , 0. ,0.],[c, 0.,0.,0.]])\n",
        "Mat_B=np.array([[0.],[0.],[(omega**2)*b],[0.]])\n",
        "alfa=np.linspace(0,0,int(t_simul/Dt))\n",
        "fi=np.linspace(0,0,int(t_simul/Dt))\n",
        "fi_p=np.linspace(0,0,int(t_simul/Dt))\n",
        "h=np.linspace(0,0,int(t_simul/Dt))\n",
        "u=np.linspace(0,0,int(t_simul/Dt))\n",
        "alfa_O=np.linspace(0,0,int(t_simul/Dt))\n",
        "fi_O=np.linspace(0,0,int(t_simul/Dt))\n",
        "h_O=np.linspace(0,0,int(t_simul/Dt))\n",
        "t=np.linspace(0,0,int(t_simul/Dt))\n",
        "alfa[0]=0.\n",
        "fi[0]=0.\n",
        "fi_p[0]=fi[0]\n",
        "h[0]=0.\n",
        "u[0]=0.\n",
        "estado=[[alfa[0]], [fi[0]], [fi_p[0]], [h[0]]]\n",
        "x_hat=estado #Igual condiciones inicial es del sistema lineal\n",
        "for ii in range(int(t_simul/Dt)-1):    \n",
        "    u[ii+1]=1.\n",
        "    alfa_p=(-a*alfa[ii])+(a*fi[ii])   \n",
        "    fi_pp=(alfa[ii]*(omega**2))+(b*(omega**2)*u[ii+1])-(fi[ii]*(omega**2))\n",
        "    h_p=c*alfa[ii]\n",
        "    x_hatp = np.matmul(Mat_A,x_hat) + Mat_B*u[ii]     \n",
        "    x_hat = x_hat + Dt*x_hatp;    \n",
        "    fi_p[ii+1]=fi_p[ii]+Dt*fi_pp;\n",
        "    fi[ii+1]  =fi[ii]+Dt*fi_p[ii];\n",
        "    alfa[ii+1]=alfa[ii]+Dt*alfa_p;\n",
        "    h[ii+1]   =h[ii]+Dt*h_p;\n",
        "    t[ii] = ii*Dt\n",
        "    estado=[[alfa[ii+1]], [fi[ii+1]], [fi_p[ii+1]], [h[ii+1]]]\n",
        "    alfa_O[ii+1]=x_hat[0] #El vector inicia en 0, en Octave en 1\n",
        "    fi_O[ii+1]=x_hat[0]\n",
        "t[ii+1] = ii*Dt\n",
        "u[ii+1]=1.\n",
        "\n",
        "fig, axs = plt.subplots(2,2)\n",
        "fig.suptitle('Avión')\n",
        "axs[0,0].plot(t, alfa, linewidth =1.0)\n",
        "axs[0,0].grid( True )\n",
        "axs[0,0].set_ylabel(r'$\\alpha_t$',rotation=0, fontsize=12) \n",
        "\n",
        "axs[0,1].plot(t, fi, linewidth =1.0)\n",
        "axs[0,1].grid( True )\n",
        "axs[0,1].set_ylabel('$\\phi_t$',rotation=0, fontsize=12)\n",
        "\n",
        "axs[1,0].plot(t, fi_p, linewidth =1.0)\n",
        "axs[1,0].grid( True )\n",
        "axs[1,0].set_ylabel('$\\dot{\\phi}_t$',rotation=0, fontsize=12) \n",
        "axs[1,0].set_xlabel('Tiempo (seg.)',rotation=0, fontsize=12)\n",
        "\n",
        "axs[1,1].plot(t, h, linewidth =1.0)\n",
        "axs[1,1].grid( True )\n",
        "axs[1,1].set_ylabel('$h_t$',rotation=0, fontsize=12)\n",
        "axs[1,1].set_xlabel('Tiempo (seg.)',rotation=0, fontsize=12)\n",
        "\n",
        "#Acción de control\n",
        "fig, ax1 = plt.subplots(1,1)\n",
        "fig.suptitle('Acción de Control')\n",
        "plt.plot(t, u, linewidth =1.0)\n",
        "plt.grid( True )\n",
        "ax1.set_ylabel('$u_t$',rotation=0, fontsize=12) \n",
        "ax1.set_xlabel('Tiempo (seg.)',rotation=0, fontsize=12)"
      ],
      "metadata": {
        "colab": {
          "base_uri": "https://localhost:8080/",
          "height": 623
        },
        "id": "LP7SiAc91cly",
        "outputId": "2d4e3a26-f3d3-4632-c5ca-e2df6ebba67e"
      },
      "execution_count": 3,
      "outputs": [
        {
          "output_type": "execute_result",
          "data": {
            "text/plain": [
              "Text(0.5, 0, 'Tiempo (seg.)')"
            ]
          },
          "metadata": {},
          "execution_count": 3
        },
        {
          "output_type": "display_data",
          "data": {
            "text/plain": [
              "<Figure size 432x288 with 4 Axes>"
            ],
            "image/png": "[encoded data removed]"
          },
          "metadata": {
            "needs_background": "light"
          }
        },
        {
          "output_type": "display_data",
          "data": {
            "text/plain": [
              "<Figure size 432x288 with 1 Axes>"
            ],
            "image/png": "[encoded data removed]"
          },
          "metadata": {
            "needs_background": "light"
          }
        }
      ]
    },
    {
      "cell_type": "markdown",
      "source": [],
      "metadata": {
        "id": "h1N8x9hB1pIt"
      }
    },
    {
      "cell_type": "markdown",
      "source": [
        "**Simulación ahora con c=50m/s (180Km/h);$\\Delta$t=$1e^-3$; y el tiempo de simulación de 20 segundos.**"
      ],
      "metadata": {
        "id": "nkBEm7jkskse"
      }
    },
    {
      "cell_type": "code",
      "source": [
        "import numpy as np\n",
        "import scipy as sp\n",
        "import scipy.signal\n",
        "from matplotlib import pyplot as plt\n",
        "from pylab import *\n",
        "from numpy.linalg import eig\n",
        "omega=0.2;a=0.01;b=2;c=50;\n",
        "##%            estado=[alfa(i); fi(i); fi_p(i); h(i)]\n",
        "##Mat_A=[-a a 0 0; 0 0 1 0; omega^2 -omega^2 0 0; c 0 0 0];\n",
        "##Mat_B=[0; 0; (omega^2)*b; 0]\n",
        "Dt=1e-3;t_simul=20; #Tiene que ser muy pequeño para que se vea que coinciden\n",
        "Mat_A=np.array([[ -a, a, 0. ,0.],[0., 0., 1., 0.],[omega**2, -omega**2 , 0. ,0.],[c, 0.,0.,0.]])\n",
        "Mat_B=np.array([[0.],[0.],[(omega**2)*b],[0.]])\n",
        "alfa=np.linspace(0,0,int(t_simul/Dt))\n",
        "fi=np.linspace(0,0,int(t_simul/Dt))\n",
        "fi_p=np.linspace(0,0,int(t_simul/Dt))\n",
        "h=np.linspace(0,0,int(t_simul/Dt))\n",
        "u=np.linspace(0,0,int(t_simul/Dt))\n",
        "alfa_O=np.linspace(0,0,int(t_simul/Dt))\n",
        "fi_O=np.linspace(0,0,int(t_simul/Dt))\n",
        "h_O=np.linspace(0,0,int(t_simul/Dt))\n",
        "t=np.linspace(0,0,int(t_simul/Dt))\n",
        "alfa[0]=0.\n",
        "fi[0]=0.\n",
        "fi_p[0]=fi[0]\n",
        "h[0]=0.\n",
        "u[0]=0.\n",
        "estado=[[alfa[0]], [fi[0]], [fi_p[0]], [h[0]]]\n",
        "x_hat=estado #Igual condiciones inicial es del sistema lineal\n",
        "for ii in range(int(t_simul/Dt)-1):    \n",
        "    u[ii+1]=1.\n",
        "    alfa_p=(-a*alfa[ii])+(a*fi[ii])   \n",
        "    fi_pp=(alfa[ii]*(omega**2))+(b*(omega**2)*u[ii+1])-(fi[ii]*(omega**2))\n",
        "    h_p=c*alfa[ii]\n",
        "    x_hatp = np.matmul(Mat_A,x_hat) + Mat_B*u[ii]     \n",
        "    x_hat = x_hat + Dt*x_hatp;    \n",
        "    fi_p[ii+1]=fi_p[ii]+Dt*fi_pp;\n",
        "    fi[ii+1]  =fi[ii]+Dt*fi_p[ii];\n",
        "    alfa[ii+1]=alfa[ii]+Dt*alfa_p;\n",
        "    h[ii+1]   =h[ii]+Dt*h_p;\n",
        "    t[ii] = ii*Dt\n",
        "    estado=[[alfa[ii+1]], [fi[ii+1]], [fi_p[ii+1]], [h[ii+1]]]\n",
        "    alfa_O[ii+1]=x_hat[0] #El vector inicia en 0, en Octave en 1\n",
        "    fi_O[ii+1]=x_hat[0]\n",
        "t[ii+1] = ii*Dt\n",
        "u[ii+1]=1.\n",
        "\n",
        "fig, axs = plt.subplots(2,2)\n",
        "fig.suptitle('Avión')\n",
        "axs[0,0].plot(t, alfa, linewidth =1.0)\n",
        "axs[0,0].grid( True )\n",
        "axs[0,0].set_ylabel(r'$\\alpha_t$',rotation=0, fontsize=12) \n",
        "\n",
        "axs[0,1].plot(t, fi, linewidth =1.0)\n",
        "axs[0,1].grid( True )\n",
        "axs[0,1].set_ylabel('$\\phi_t$',rotation=0, fontsize=12)\n",
        "\n",
        "axs[1,0].plot(t, fi_p, linewidth =1.0)\n",
        "axs[1,0].grid( True )\n",
        "axs[1,0].set_ylabel('$\\dot{\\phi}_t$',rotation=0, fontsize=12) \n",
        "axs[1,0].set_xlabel('Tiempo (seg.)',rotation=0, fontsize=12)\n",
        "\n",
        "axs[1,1].plot(t, h, linewidth =1.0)\n",
        "axs[1,1].grid( True )\n",
        "axs[1,1].set_ylabel('$h_t$',rotation=0, fontsize=12)\n",
        "axs[1,1].set_xlabel('Tiempo (seg.)',rotation=0, fontsize=12)\n",
        "\n",
        "#Acción de control\n",
        "fig, ax1 = plt.subplots(1,1)\n",
        "fig.suptitle('Acción de Control')\n",
        "plt.plot(t, u, linewidth =1.0)\n",
        "plt.grid( True )\n",
        "ax1.set_ylabel('$u_t$',rotation=0, fontsize=12) \n",
        "ax1.set_xlabel('Tiempo (seg.)',rotation=0, fontsize=12)"
      ],
      "metadata": {
        "colab": {
          "base_uri": "https://localhost:8080/",
          "height": 623
        },
        "id": "CnB1nfWF1w-E",
        "outputId": "74f1588e-af26-4015-f5b9-16672361f51a"
      },
      "execution_count": 4,
      "outputs": [
        {
          "output_type": "execute_result",
          "data": {
            "text/plain": [
              "Text(0.5, 0, 'Tiempo (seg.)')"
            ]
          },
          "metadata": {},
          "execution_count": 4
        },
        {
          "output_type": "display_data",
          "data": {
            "text/plain": [
              "<Figure size 432x288 with 4 Axes>"
            ],
            "image/png": "[encoded data removed]"
          },
          "metadata": {
            "needs_background": "light"
          }
        },
        {
          "output_type": "display_data",
          "data": {
            "text/plain": [
              "<Figure size 432x288 with 1 Axes>"
            ],
            "image/png": "[encoded data removed]"
          },
          "metadata": {
            "needs_background": "light"
          }
        }
      ]
    }
  ]
}