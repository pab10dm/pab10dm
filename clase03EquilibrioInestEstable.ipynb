{
  "nbformat": 4,
  "nbformat_minor": 0,
  "metadata": {
    "colab": {
      "name": "clase03EquilibrioInestEstable.ipynb",
      "provenance": [],
      "collapsed_sections": [],
      "authorship_tag": "ABX9TyOajFgAJsjaDzxgi1rnMTgk",
      "include_colab_link": true
    },
    "kernelspec": {
      "name": "python3",
      "display_name": "Python 3"
    },
    "language_info": {
      "name": "python"
    }
  },
  "cells": [
    {
      "cell_type": "markdown",
      "metadata": {
        "id": "view-in-github",
        "colab_type": "text"
      },
      "source": [
        "<a href=\"https://colab.research.google.com/github/pab10dm/pab10dm/blob/main/clase03EquilibrioInestEstable.ipynb\" target=\"_parent\"><img src=\"https://colab.research.google.com/assets/colab-badge.svg\" alt=\"Open In Colab\"/></a>"
      ]
    },
    {
      "cell_type": "code",
      "execution_count": null,
      "metadata": {
        "id": "CurbZCnTx6HY"
      },
      "outputs": [],
      "source": [
        "!apt install octave"
      ]
    },
    {
      "cell_type": "code",
      "source": [
        "!apt install octave-symbolic\n"
      ],
      "metadata": {
        "id": "RKAHoxml-7II"
      },
      "execution_count": null,
      "outputs": []
    },
    {
      "cell_type": "code",
      "source": [
        "%%writefile Controlador.m\n",
        "clear all; clc;\n",
        "setenv PYTHON /usr/bin/python %Acá está el vinculo con Pyton, para acceder al sympy desde symbolic\n",
        "%/usr/bin/python\n",
        "pkg load symbolic %Primera vez que se corre el paquete simbólico de Python. \n",
        "syms fi fi_p fi_pp p p_p p_pp M m u long Fricc g; \n",
        "disp('Para el equilibrio inestable') \n",
        "ang_inic=0; \n",
        "p_pp=(1/(M+m))*(u-m*long*fi_pp+m*long*fi_p^2*fi-Fricc*p_p); %Pequeños angulos \n",
        "% fi_pp_=(1/long)*(g*sin(fi)-p_pp*cos(fi));%Expresión completa \n",
        "% fi_pp=(1/long)*(g*(fi)-p_pp); %Pequeños angulos para fi~0, sin(fi)~fi, cos(fi)~1 \n",
        "fi_pp=solve(fi_pp==(1/long)*(g*fi-p_pp),fi_pp); \n",
        "%disp('fi_pp='); pretty(simplify(fi_pp)); \n",
        "p_pp=subs(p_pp,'fi_pp',fi_pp); \n",
        "%disp('p_pp='); pretty(simplify(p_pp)) \n",
        "Mat_A=[[0 1 0 0]; \n",
        "[subs(subs(subs(subs(diff(p_pp, p), p,0),p_p,0),fi,ang_inic),fi_p,0), ... \n",
        "subs(subs(subs(subs(diff(p_pp, p_p), p,0),p_p,0),fi,ang_inic),fi_p,0), ... \n",
        "subs(subs(subs(subs(diff(p_pp, fi), p,0),p_p,0),fi,ang_inic),fi_p,0), ... \n",
        "subs(subs(subs(subs(diff(p_pp, fi_p), p,0),p_p,0),fi,ang_inic),fi_p,0)]; \n",
        "[0 0 0 1]; \n",
        "[subs(subs(subs(subs(diff(fi_pp, p), p,0),p_p,0),fi,ang_inic),fi_p,0),... \n",
        "subs(subs(subs(subs(diff(fi_pp, p_p), p,0),p_p,0),fi,ang_inic),fi_p,0),... \n",
        "subs(subs(subs(subs(diff(fi_pp, fi), p,0),p_p,0),fi,ang_inic),fi_p,0),... \n",
        "subs(subs(subs(subs(diff(fi_pp, fi_p), p,0),p_p,0),fi,ang_inic),fi_p,0)]]; \n",
        "Mat_B=[0; \n",
        "subs(subs(subs(subs(diff(p_pp, u), p,0),p_p,0),fi,ang_inic),fi_p,0);... \n",
        "0; \n",
        "subs(subs(subs(subs(diff(fi_pp, u), p,0),p_p,0),fi,ang_inic),fi_p,0)]; \n",
        "disp('A=')\n",
        "pretty(simplify(Mat_A)) \n",
        "disp('B=')\n",
        "pretty(simplify(Mat_B))\n",
        "syms Mat_C;\n",
        "Mat_C=[[1 0 0 0];[0 0 1 0]];\n",
        "disp('C=')\n",
        "(Mat_C)\n",
        "disp('D=0')\n",
        "syms fi fi_p fi_pp p p_p p_pp M m u long Fricc g; \n",
        "disp('Para el equilibrio estable') \n",
        "ang_inic=pi; \n",
        "p_pp=(1/(M+m))*(u+m*long*fi_pp-m*long*fi_p^2*fi-Fricc*p_p); \n",
        "%fi_pp=(1/long)*(-g*(fi)+p_pp); %Pequeños angulos para fi~pi sin(fi)~-fi, cos(fi)=-1 \n",
        "fi_pp=solve(fi_pp==(1/long)*(-g*fi+p_pp),fi_pp); \n",
        "disp('fi_pp='); pretty(simplify(fi_pp)); \n",
        "p_pp=subs(p_pp,'fi_pp',fi_pp); \n",
        " Mat_A=[[0 1 0 0]; \n",
        "    [subs(subs(subs(subs(diff(p_pp, p), p,0),p_p,0),fi,ang_inic),fi_p,0), ... \n",
        "     subs(subs(subs(subs(diff(p_pp, p_p), p,0),p_p,0),fi,ang_inic),fi_p,0), ... \n",
        "     subs(subs(subs(subs(diff(p_pp, fi), p,0),p_p,0),fi,ang_inic),fi_p,0), ... \n",
        "     subs(subs(subs(subs(diff(p_pp, fi_p), p,0),p_p,0),fi,ang_inic),fi_p,0)]; ... \n",
        "     [0 0 0 1];... \n",
        "    [subs(subs(subs(subs(diff(fi_pp, p), p,0),p_p,0),fi,ang_inic),fi_p,0),... \n",
        "     subs(subs(subs(subs(diff(fi_pp, p_p), p,0),p_p,0),fi,ang_inic),fi_p,0),... \n",
        "     subs(subs(subs(subs(diff(fi_pp, fi), p,0),p_p,0),fi,ang_inic),fi_p,0),... \n",
        "     subs(subs(subs(subs(diff(fi_pp, fi_p), p,0),p_p,0),fi,ang_inic),fi_p,0)]]; \n",
        "  Mat_B=[0; \n",
        "     subs(subs(subs(subs(diff(p_pp, u), p,0),p_p,0),fi,ang_inic),fi_p,0);... \n",
        "     0; \n",
        "     subs(subs(subs(subs(diff(fi_pp, u), p,0),p_p,0),fi,ang_inic),fi_p,0)]; \n",
        "  pretty(simplify(Mat_A)) \n",
        "  pretty(simplify(Mat_B))"
      ],
      "metadata": {
        "colab": {
          "base_uri": "https://localhost:8080/"
        },
        "id": "bONUfa1uLoPx",
        "outputId": "0f9e7d38-16c6-4abd-f5c7-20be44213791"
      },
      "execution_count": null,
      "outputs": [
        {
          "output_type": "stream",
          "name": "stdout",
          "text": [
            "Writing Controlador.m\n"
          ]
        }
      ]
    },
    {
      "cell_type": "code",
      "source": [
        "!octave -W Controlador.m\n"
      ],
      "metadata": {
        "colab": {
          "base_uri": "https://localhost:8080/"
        },
        "id": "nYCw7GdrRER3",
        "outputId": "1504ec53-8543-4963-d27d-2e24dad578e3"
      },
      "execution_count": null,
      "outputs": [
        {
          "output_type": "stream",
          "name": "stdout",
          "text": [
            "OctSymPy v2.6.0: this is free software without warranty, see source.\n",
            "Initializing communication with SymPy using a popen2() pipe.\n",
            "Some output from the Python subprocess (pid 3719) might appear next.\n",
            "Python 2.7.17 (default, Jul  1 2022, 15:56:32) \n",
            "[GCC 7.5.0] on linux2\n",
            "Type \"help\", \"copyright\", \"credits\" or \"license\" for more information.\n",
            ">>> >>> \n",
            "OctSymPy: Communication established.  SymPy v1.1.1.\n",
            "Para el equilibrio inestable\n",
            "A=\n",
            "  ⎡0     1         0      0⎤\n",
            "  ⎢                        ⎥\n",
            "  ⎢   -Fricc     -g⋅m      ⎥\n",
            "  ⎢0  ───────    ─────    0⎥\n",
            "  ⎢      M         M       ⎥\n",
            "  ⎢                        ⎥\n",
            "  ⎢0     0         0      1⎥\n",
            "  ⎢                        ⎥\n",
            "  ⎢   Fricc    g⋅(M + m)   ⎥\n",
            "  ⎢0  ──────   ─────────  0⎥\n",
            "  ⎣   M⋅long     M⋅long    ⎦\n",
            "B=\n",
            "  ⎡  0   ⎤\n",
            "  ⎢      ⎥\n",
            "  ⎢  1   ⎥\n",
            "  ⎢  ─   ⎥\n",
            "  ⎢  M   ⎥\n",
            "  ⎢      ⎥\n",
            "  ⎢  0   ⎥\n",
            "  ⎢      ⎥\n",
            "  ⎢ -1   ⎥\n",
            "  ⎢──────⎥\n",
            "  ⎣M⋅long⎦\n",
            "C=\n",
            "Mat_C =\n",
            "\n",
            "   1   0   0   0\n",
            "   0   0   1   0\n",
            "\n",
            "D=0\n",
            "Para el equilibrio estable\n",
            "fi_pp=\n",
            "                               2                    \n",
            "  -Fricc⋅p_p - M⋅fi⋅g - fi⋅fi_p ⋅long⋅m - fi⋅g⋅m + u\n",
            "  ──────────────────────────────────────────────────\n",
            "                        M⋅long                      \n",
            "  ⎡0     1          0       0⎤\n",
            "  ⎢                          ⎥\n",
            "  ⎢   -Fricc      -g⋅m       ⎥\n",
            "  ⎢0  ───────     ─────     0⎥\n",
            "  ⎢      M          M        ⎥\n",
            "  ⎢                          ⎥\n",
            "  ⎢0     0          0       1⎥\n",
            "  ⎢                          ⎥\n",
            "  ⎢   -Fricc   -g⋅(M + m)    ⎥\n",
            "  ⎢0  ───────  ───────────  0⎥\n",
            "  ⎣    M⋅long     M⋅long     ⎦\n",
            "  ⎡  0   ⎤\n",
            "  ⎢      ⎥\n",
            "  ⎢  1   ⎥\n",
            "  ⎢  ─   ⎥\n",
            "  ⎢  M   ⎥\n",
            "  ⎢      ⎥\n",
            "  ⎢  0   ⎥\n",
            "  ⎢      ⎥\n",
            "  ⎢  1   ⎥\n",
            "  ⎢──────⎥\n",
            "  ⎣M⋅long⎦\n",
            "\n"
          ]
        }
      ]
    }
  ]
}